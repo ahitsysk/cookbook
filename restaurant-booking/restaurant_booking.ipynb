{
 "cells": [
  {
   "cell_type": "markdown",
   "metadata": {},
   "source": [
    "# Finding and Booking Restaurants with MultiOn\n",
    "\n",
    "In this recipe, we'll demonstrate how to find restaurants on OpenTable and make a booking using MultiOn's Agent API in local mode. We'll be using `step` to find and book restaurants for our desired cuisine and date and time."
   ]
  },
  {
   "cell_type": "markdown",
   "metadata": {},
   "source": [
    "## Step 1: Set up the environment\n",
    "\n",
    "First, let's install the required libraries and set up the MultiOn client."
   ]
  },
  {
   "cell_type": "code",
   "execution_count": null,
   "metadata": {},
   "outputs": [],
   "source": [
    "%pip install multion --upgrade"
   ]
  },
  {
   "cell_type": "code",
   "execution_count": 1,
   "metadata": {},
   "outputs": [],
   "source": [
    "from multion.client import MultiOn\n",
    "\n",
    "client = MultiOn(\n",
    "    api_key=\"YOUR_API_KEY\" # Get your API key from https://app.multion.ai/api-keys\n",
    ")"
   ]
  },
  {
   "cell_type": "markdown",
   "metadata": {},
   "source": [
    "## Step 2: Create the restaurant search agent\n",
    "\n",
    "Next, we will create a remote agent session (without local mode), which will be responsible for searching for the desired kind of restaurant."
   ]
  },
  {
   "cell_type": "code",
   "execution_count": 2,
   "metadata": {},
   "outputs": [],
   "source": [
    "create_response = client.sessions.create(\n",
    "    url=\"https://www.opentable.com/\",\n",
    "    include_screenshot=True\n",
    ")\n",
    "\n",
    "session_id = create_response.session_id"
   ]
  },
  {
   "cell_type": "markdown",
   "metadata": {},
   "source": [
    "Now, we can continue from the same session using the `session_id` from the response. We will instruct the agent to search for the desired restaurants using `step`."
   ]
  },
  {
   "cell_type": "code",
   "execution_count": null,
   "metadata": {},
   "outputs": [],
   "source": [
    "status = \"CONTINUE\"\n",
    "\n",
    "while status == \"CONTINUE\":\n",
    "    step_response = client.sessions.step(\n",
    "        session_id=session_id,\n",
    "        cmd=\"Find italian restaurants for July 20 7pm\",\n",
    "        include_screenshot=True\n",
    "    )\n",
    "    status = step_response.status\n",
    "\n",
    "print(step_response.message)\n",
    "print(step_response.screenshot)"
   ]
  },
  {
   "cell_type": "markdown",
   "metadata": {},
   "source": [
    "## Step 3: Pick and Book a Restaurant\n",
    "\n",
    "Now we can specify further preferences (like the number of reviews) and have the agent pick an appropriate restaurant and book it."
   ]
  },
  {
   "cell_type": "code",
   "execution_count": null,
   "metadata": {},
   "outputs": [],
   "source": [
    "status = \"CONTINUE\"\n",
    "\n",
    "while status == \"CONTINUE\":\n",
    "    step_response = client.sessions.step(\n",
    "        session_id=session_id,\n",
    "        cmd=\"Pick the restaurant with the highest number of reviews and book it. Don't ask for confirmation - proceed with the booking.\",\n",
    "        include_screenshot=True\n",
    "    )\n",
    "    status = step_response.status\n",
    "\n",
    "print(step_response.message)\n",
    "print(step_response.screenshot)"
   ]
  }
 ],
 "metadata": {
  "kernelspec": {
   "display_name": ".venv",
   "language": "python",
   "name": "python3"
  },
  "language_info": {
   "codemirror_mode": {
    "name": "ipython",
    "version": 3
   },
   "file_extension": ".py",
   "mimetype": "text/x-python",
   "name": "python",
   "nbconvert_exporter": "python",
   "pygments_lexer": "ipython3",
   "version": "3.11.9"
  }
 },
 "nbformat": 4,
 "nbformat_minor": 2
}
