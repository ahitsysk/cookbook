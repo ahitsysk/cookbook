{
 "cells": [
  {
   "cell_type": "markdown",
   "metadata": {},
   "source": [
    "# Compile and summarize news with MultiOn\n",
    "\n",
    "In this recipe, we'll demonstrate how to find the latest news and summarize and analyze it using MultiOn Agents. We'll be using `step` and `retrieve`."
   ]
  },
  {
   "cell_type": "markdown",
   "metadata": {},
   "source": [
    "## Step 1: Set up the environment\n",
    "\n",
    "First, let's install the required libraries and set up the MultiOn client."
   ]
  },
  {
   "cell_type": "code",
   "execution_count": null,
   "metadata": {},
   "outputs": [],
   "source": [
    "%pip install multion --upgrade"
   ]
  },
  {
   "cell_type": "code",
   "execution_count": 1,
   "metadata": {},
   "outputs": [],
   "source": [
    "from multion.client import MultiOn\n",
    "\n",
    "client = MultiOn(\n",
    "    api_key=\"YOUR_API_KEY\" # Get your API key from https://app.multion.ai/api-keys\n",
    ")"
   ]
  },
  {
   "cell_type": "markdown",
   "metadata": {},
   "source": [
    "## Step 2: Create the news article search agent\n",
    "\n",
    "Next, we will create a remote agent session (without local mode), which will be responsible for searching for the top news articles."
   ]
  },
  {
   "cell_type": "code",
   "execution_count": 2,
   "metadata": {},
   "outputs": [],
   "source": [
    "create_response = client.sessions.create(\n",
    "    url=\"https://www.google.com\",\n",
    "    include_screenshot=True\n",
    ")\n",
    "\n",
    "session_id = create_response.session_id"
   ]
  },
  {
   "cell_type": "markdown",
   "metadata": {},
   "source": [
    "Now, we can continue from the same session using the `session_id` from the response. We will search for news articles and use `step` until we get to the results page."
   ]
  },
  {
   "cell_type": "code",
   "execution_count": null,
   "metadata": {},
   "outputs": [],
   "source": [
    "status = \"CONTINUE\"\n",
    "\n",
    "while status == \"CONTINUE\":\n",
    "    step_response = client.sessions.step(\n",
    "        session_id=session_id,\n",
    "        cmd=\"Search for the top 5 news articles on google. Don't open a news website.\",\n",
    "        include_screenshot=True\n",
    "    )\n",
    "    status = step_response.status\n",
    "\n",
    "print(step_response.message)\n",
    "print(step_response.screenshot)"
   ]
  },
  {
   "cell_type": "markdown",
   "metadata": {},
   "source": [
    "## Step 3: Retrieve article headlines and URLs.\n",
    "\n",
    "Next, we will call `retrieve` on the same session in order to get the news article headlines, publisher names and URLs."
   ]
  },
  {
   "cell_type": "code",
   "execution_count": null,
   "metadata": {},
   "outputs": [],
   "source": [
    "retrieve_response = client.retrieve(\n",
    "    session_id=session_id,\n",
    "    cmd=\"Get the news articles with their headlines, publishers and urls.\",\n",
    "    fields=[\"headline\", \"publisher\", \"url\"],\n",
    "    scroll_to_bottom=True,\n",
    "    render_js=True\n",
    ")\n",
    "\n",
    "data = retrieve_response.data\n",
    "top_5 = data[:5]"
   ]
  },
  {
   "cell_type": "markdown",
   "metadata": {},
   "source": [
    "## Step 4: Summarize and analyze articles in parallel\n",
    "\n",
    "Next, we will call `retrieve` in parallel on each article (this creates new sessions instead of continuing with the same one) to extract a summary and analyze the impact on our fictional business at the same time."
   ]
  },
  {
   "cell_type": "code",
   "execution_count": null,
   "metadata": {},
   "outputs": [],
   "source": [
    "from concurrent.futures import ThreadPoolExecutor\n",
    "import pprint\n",
    "\n",
    "def summarize_article(article):\n",
    "    summary = \"\"\n",
    "    try:\n",
    "        article_summary_response = client.retrieve(\n",
    "            url=article[\"url\"],\n",
    "            cmd=\"I run a chip manufacturing business. Get the headline and a summary for the article. Also analyze whether this news might have an impact on my business.\",\n",
    "            fields=[\"headline\", \"summary\", \"impact\"]\n",
    "        )\n",
    "        summary = article_summary_response.data[0]\n",
    "    except:\n",
    "        pass\n",
    "    return summary\n",
    "\n",
    "with ThreadPoolExecutor() as executor:\n",
    "    summaries = list(executor.map(summarize_article, top_5))\n",
    "\n",
    "print(f\"Article summaries and impact:\")\n",
    "pprint.pp(summaries)"
   ]
  }
 ],
 "metadata": {
  "kernelspec": {
   "display_name": ".venv",
   "language": "python",
   "name": "python3"
  },
  "language_info": {
   "codemirror_mode": {
    "name": "ipython",
    "version": 3
   },
   "file_extension": ".py",
   "mimetype": "text/x-python",
   "name": "python",
   "nbconvert_exporter": "python",
   "pygments_lexer": "ipython3",
   "version": "3.11.9"
  }
 },
 "nbformat": 4,
 "nbformat_minor": 2
}
