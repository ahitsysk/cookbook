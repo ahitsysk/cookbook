{
  "cells": [
    {
      "cell_type": "markdown",
      "metadata": {
        "id": "tnwWRUjkkt_3"
      },
      "source": [
        "# Building a Personalized Travel AI Agent with MultiOn and Mem0\n",
        "\n",
        "Create an intelligent travel companion that remembers your preferences! This notebook demonstrates how to develop an AI travel agent using MultiOn and Mem0.\n",
        "Key features:\n",
        "\n",
        "- Browser-based AI capabilities (MultiOn)\n",
        "- Long-term memory for personalization (Mem0)\n",
        "- Context-aware trip planning\n",
        "- Personalized travel recommendations\n",
        "\n",
        "Learn to build an assistant that enhances the travel planning experience with each interaction."
      ]
    },
    {
      "cell_type": "markdown",
      "metadata": {},
      "source": [
        "## Step 1: Set up the environment\n",
        "\n",
        "First, install the required libraries and set up the MultiOn and Mem0 APIs. You also need to setup API keys for both MultiOn and Mem0.\n",
        "\n",
        "- Get your MultiOn API Key: https://app.multion.ai/api-keys\n",
        "- Get your Mem0 API Key: https://app.mem0.ai/dashboard/api-keys"
      ]
    },
    {
      "cell_type": "code",
      "execution_count": null,
      "metadata": {},
      "outputs": [],
      "source": [
        "%pip install multion mem0ai"
      ]
    },
    {
      "cell_type": "code",
      "execution_count": 81,
      "metadata": {
        "id": "U2VC_0FElQid"
      },
      "outputs": [],
      "source": [
        "from mem0 import MemoryClient\n",
        "from multion.client import MultiOn\n",
        "\n",
        "# Configuration\n",
        "MULTION_API_KEY = \"xxx\"  # Get your MultiOn API key from https://app.multion.ai/api-keys\n",
        "MEM0_API_KEY = \"m0-xxx\"  # Get your Mem0 API key from https://app.mem0.ai/dashboard/api-keys\n",
        "USER_ID = \"alex\" # Your user ID (can be anything)\n",
        "\n",
        "mem0_client = MemoryClient(api_key=MEM0_API_KEY)\n",
        "multion_client = MultiOn(api_key=MULTION_API_KEY)"
      ]
    },
    {
      "cell_type": "markdown",
      "metadata": {},
      "source": [
        "## Step 2: Add your own data to extract memories from it using Mem0\n",
        "\n",
        "You can add your own data to extract memories from it using Mem0."
      ]
    },
    {
      "cell_type": "code",
      "execution_count": 82,
      "metadata": {},
      "outputs": [
        {
          "data": {
            "text/plain": [
              "{'message': 'ok'}"
            ]
          },
          "execution_count": 82,
          "metadata": {},
          "output_type": "execute_result"
        }
      ],
      "source": [
        "text = \"\"\"\n",
        "Here are the details from my travel blog about myself:\n",
        "\n",
        "I'm a passionate traveler with a well-stamped passport. Beaches are my go-to, and I always choose Airbnbs for that local touch. Exploring new cultures and cuisines is my passion, though sushi isn't on my menu. I love discovering hidden gems and connecting with locals wherever I go. For me, travel isn't just a hobby—it's a lifestyle that broadens my horizons. Each trip is a new adventure, filled with sandy shores, diverse flavors, and unforgettable encounters.\n",
        "\"\"\"\n",
        "\n",
        "mem0_client.add(text, user_id=USER_ID)"
      ]
    },
    {
      "cell_type": "markdown",
      "metadata": {},
      "source": [
        "## Fetch added memories\n",
        "\n",
        "Fetch the added memories using the Mem0 API."
      ]
    },
    {
      "cell_type": "code",
      "execution_count": 83,
      "metadata": {},
      "outputs": [
        {
          "name": "stdout",
          "output_type": "stream",
          "text": [
            "User Preferences:\n",
            "-----------------\n",
            "- Is a passionate traveler with a well-stamped passport\n",
            "- Prefers beaches and always chooses Airbnbs for that local touch\n",
            "- Loves exploring new cultures and cuisines but doesn't like sushi\n",
            "- Enjoys discovering hidden gems and connecting with locals while traveling\n",
            "- Considers travel a lifestyle that broadens horizons\n",
            "- Each trip is a new adventure filled with sandy shores, diverse flavors, and unforgettable encounters.\n"
          ]
        }
      ],
      "source": [
        "memories = mem0_client.get_all(user_id=USER_ID)\n",
        "memories = [m[\"memory\"] for m in memories][0].rsplit(\". \")\n",
        "print(\"User Preferences:\")\n",
        "print(\"-----------------\")\n",
        "for m in memories:\n",
        "    print(f\"- {m}\")"
      ]
    },
    {
      "cell_type": "markdown",
      "metadata": {},
      "source": [
        "## Step 3: Create Personal Travel AI Agent\n",
        "\n",
        "Create a personalized travel AI agent that can help you plan your trips and provide recommendations based on your preferences.\n",
        "\n",
        "MultiOn APIs uses the extracted preferences and memories about the user to provide personalized recommendations."
      ]
    },
    {
      "cell_type": "code",
      "execution_count": 90,
      "metadata": {
        "id": "us3LwKCumiHF"
      },
      "outputs": [],
      "source": [
        "from IPython.display import display, HTML\n",
        "\n",
        "\n",
        "def print_colored(text, color='black', bold=False):\n",
        "    weight = 'bold' if bold else 'normal'\n",
        "    display(HTML(f\"<pre style='color: {color}; font-weight: {weight};'>{text}</pre>\"))\n",
        "\n",
        "def print_separator(char='-', length=50, color='gray'):\n",
        "    print_colored(char * length, color)\n",
        "\n",
        "\n",
        "class TravelAIAgent:\n",
        "    def __init__(self, use_memory: bool = True):\n",
        "        self.use_memory = use_memory\n",
        "        self.memory = MemoryClient(api_key=MEM0_API_KEY)\n",
        "        self.multion = MultiOn(api_key=MULTION_API_KEY)\n",
        "\n",
        "    def ask_question(self, question: str, user_id: str) -> str:\n",
        "        relevant_memories = self._get_relevant_memories(question, user_id) if self.use_memory else \"\"\n",
        "        prompt = self._create_prompt(question, relevant_memories)\n",
        "        browse_result = self.multion.browse(cmd=prompt)\n",
        "        answer = browse_result.message\n",
        "\n",
        "        self._store_interaction(prompt, answer, user_id)\n",
        "        return answer\n",
        "\n",
        "    def _get_relevant_memories(self, query: str, user_id: str) -> str:\n",
        "        memories = self.memory.search(query, user_id=user_id)\n",
        "        return '\\n'.join(mem['memory'] for mem in memories)\n",
        "\n",
        "    def _create_prompt(self, question: str, relevant_memories: str) -> str:\n",
        "        base_prompt = \"Perform action related to the user query and preferences for travel planning:\"\n",
        "\n",
        "        if relevant_memories:\n",
        "            return f\"{base_prompt}\\nQuestion: {question}\\nMy preferences: {relevant_memories}\"\n",
        "        else:\n",
        "            base_prompt = \"Perform action related to the user query for travel planning:\"\n",
        "            return f\"{base_prompt}\\nQuestion: {question}\"\n",
        "\n",
        "    def _store_interaction(self, prompt: str, answer: str, user_id: str) -> None:\n",
        "        messages = [\n",
        "            {\"role\": \"user\", \"content\": prompt},\n",
        "            {\"role\": \"assistant\", \"content\": answer}\n",
        "        ]\n",
        "        self.memory.add(messages, user_id=user_id)"
      ]
    },
    {
      "cell_type": "markdown",
      "metadata": {},
      "source": [
        "## Step 4: Run and compare performance of Travel AI Assistant (Memory vs. No Memory)\n",
        "\n",
        "Compare responses from our Travel AI Assistant with and without memory capability.\n",
        "\n",
        "- Enter travel questions when prompted\n",
        "- See side-by-side answers from both versions\n",
        "- Differences are automatically highlighted\n",
        "- Type 'q' or 'exit' to quit\n",
        "\n",
        "Run the cell below to start."
      ]
    },
    {
      "cell_type": "code",
      "execution_count": 91,
      "metadata": {
        "colab": {
          "base_uri": "https://localhost:8080/"
        },
        "id": "CzcPrt6ixoH8",
        "outputId": "23ffe5b8-a07d-4026-f722-7bc68c811133"
      },
      "outputs": [
        {
          "data": {
            "text/html": [
              "<pre style='color: blue; font-weight: bold;'>Welcome to the Travel AI Assistant Comparison!</pre>"
            ],
            "text/plain": [
              "<IPython.core.display.HTML object>"
            ]
          },
          "metadata": {},
          "output_type": "display_data"
        },
        {
          "data": {
            "text/html": [
              "<pre style='color: green; font-weight: normal;'>Ask your travel-related questions to compare responses with and without memory.</pre>"
            ],
            "text/plain": [
              "<IPython.core.display.HTML object>"
            ]
          },
          "metadata": {},
          "output_type": "display_data"
        },
        {
          "data": {
            "text/html": [
              "<pre style='color: green; font-weight: normal;'>Type 'q' or 'exit' to quit.</pre>"
            ],
            "text/plain": [
              "<IPython.core.display.HTML object>"
            ]
          },
          "metadata": {},
          "output_type": "display_data"
        },
        {
          "data": {
            "text/html": [
              "<pre style='color: blue; font-weight: normal;'>==================================================</pre>"
            ],
            "text/plain": [
              "<IPython.core.display.HTML object>"
            ]
          },
          "metadata": {},
          "output_type": "display_data"
        },
        {
          "data": {
            "text/html": [
              "<pre style='color: gray; font-weight: normal;'>--------------------------------------------------</pre>"
            ],
            "text/plain": [
              "<IPython.core.display.HTML object>"
            ]
          },
          "metadata": {},
          "output_type": "display_data"
        },
        {
          "data": {
            "text/html": [
              "<pre style='color: purple; font-weight: bold;'>User query: Planning a 3 day trip to San Francisco. Suggest some places to stay.</pre>"
            ],
            "text/plain": [
              "<IPython.core.display.HTML object>"
            ]
          },
          "metadata": {},
          "output_type": "display_data"
        },
        {
          "data": {
            "text/html": [
              "<pre style='color: gray; font-weight: normal;'>--------------------------------------------------</pre>"
            ],
            "text/plain": [
              "<IPython.core.display.HTML object>"
            ]
          },
          "metadata": {},
          "output_type": "display_data"
        },
        {
          "data": {
            "text/html": [
              "<pre style='color: green; font-weight: bold;'>Answer (With Memory):</pre>"
            ],
            "text/plain": [
              "<IPython.core.display.HTML object>"
            ]
          },
          "metadata": {},
          "output_type": "display_data"
        },
        {
          "data": {
            "text/html": [
              "<pre style='color: green; font-weight: normal;'>Based on your preferences for a 3-day trip to San Francisco, here are some Airbnb options near beaches that might interest you:\n",
              "\n",
              "1. **Beach house vacation rentals in San Francisco Bay Area Airbnb**:\n",
              "   - **Home in Pacifica**: 4.99 out of 5 average rating, 270 reviews\n",
              "   - **Home in Half Moon Bay**: 4.84 out of 5 average rating\n",
              "\n",
              "2. **Baker Beach Vacation Rentals & Homes - San Francisco, CA Airbnb**:\n",
              "   - Rent from people in Baker Beach, CA from $20/night\n",
              "   - Unique places to stay with local hosts in 191 countries\n",
              "\n",
              "3. **Top-rated beach access rentals in San Francisco Bay Area Airbnb**:\n",
              "   - Highly rated for location, cleanliness, and more\n",
              "\n",
              "4. **Vacation rentals in North Beach, San Francisco - Airbnb**:\n",
              "   - Rent from people in North Beach, San Francisco, CA from $20/night\n",
              "   - Unique places to stay with local hosts in 191 countries\n",
              "\n",
              "5. **San Francisco Beachfront Vacation Rentals - United States Airbnb**:\n",
              "   - Fantastic views of sand, surf & mountains\n",
              "   - 1 BR apt located upstairs in 3 unit building, max 2 guests, fully furnished\n",
              "\n",
              "These options should provide you with a variety of choices that align with your love for beaches, local experiences, and exploring new cultures.\n",
              "</pre>"
            ],
            "text/plain": [
              "<IPython.core.display.HTML object>"
            ]
          },
          "metadata": {},
          "output_type": "display_data"
        },
        {
          "data": {
            "text/html": [
              "<pre style='color: gray; font-weight: normal;'>--------------------------------------------------</pre>"
            ],
            "text/plain": [
              "<IPython.core.display.HTML object>"
            ]
          },
          "metadata": {},
          "output_type": "display_data"
        },
        {
          "data": {
            "text/html": [
              "<pre style='color: red; font-weight: bold;'>Answer (Without Memory):</pre>"
            ],
            "text/plain": [
              "<IPython.core.display.HTML object>"
            ]
          },
          "metadata": {},
          "output_type": "display_data"
        },
        {
          "data": {
            "text/html": [
              "<pre style='color: red; font-weight: normal;'>Memorizing the following information: Top recommendations for places to stay in San Francisco for a 3-day trip:\n",
              "1. Nob Hill Hotel - $126, rated 3.5 out of 5\n",
              "2. HI San Francisco Fisherman's Wharf Hostel - $76, rated 4.4 out of 5\n",
              "3. Waterfront Hotel - JDV by Hyatt - $184, rated 4.1 out of 5\n",
              "4. Fairmont San Francisco - $258, rated 4.5 out of 5\n",
              "5. Hyatt Place San Francisco / Downtown - $269, rated 4.3 out of 5\n",
              "6. Hyatt Centric Fisherman's Wharf San Francisco - $223, rated 4.2 out of 5\n",
              "7. Bay Hotel - $75, rated 3.0 out of 5\n",
              "8. Hotel Sausalito & Suites - $225, rated 4.4 out of 5\n",
              "9. Grand Hyatt San Francisco - $293, rated 4.4 out of 5\n",
              "10. Hyatt Regency San Francisco Downtown Soma - $253, rated 4.2 out of 5\n",
              "11. Handlery Union Square Hotel - $169, rated 4.0 out of 5\n",
              "12. Marina Inn - $88, rated 3.0 out of 5\n",
              "13. The Lodge at Tiburon - $216, rated 4.2 out of 5\n",
              "14. Fairmont Heritage Place - Ghirardelli Square - $969, rated 4.5 out of 5\n",
              "15. San Francisco Marriott Marquis - $184, rated 4.3 out of 5\n",
              "16. San Francisco Marriott Fisherman's Wharf - $183, rated 4.2 out of 5\n",
              "Here are some top recommendations for places to stay in San Francisco for a 3-day trip:\n",
              "\n",
              "1. **Nob Hill Hotel** - $126, rated 3.5 out of 5\n",
              "2. **HI San Francisco Fisherman's Wharf Hostel** - $76, rated 4.4 out of 5\n",
              "3. **Waterfront Hotel - JDV by Hyatt** - $184, rated 4.1 out of 5\n",
              "4. **Fairmont San Francisco** - $258, rated 4.5 out of 5\n",
              "5. **Hyatt Place San Francisco / Downtown** - $269, rated 4.3 out of 5\n",
              "6. **Hyatt Centric Fisherman's Wharf San Francisco** - $223, rated 4.2 out of 5\n",
              "7. **Bay Hotel** - $75, rated 3.0 out of 5\n",
              "8. **Hotel Sausalito & Suites** - $225, rated 4.4 out of 5\n",
              "9. **Grand Hyatt San Francisco** - $293, rated 4.4 out of 5\n",
              "10. **Hyatt Regency San Francisco Downtown Soma** - $253, rated 4.2 out of 5\n",
              "11. **Handlery Union Square Hotel** - $169, rated 4.0 out of 5\n",
              "12. **Marina Inn** - $88, rated 3.0 out of 5\n",
              "13. **The Lodge at Tiburon** - $216, rated 4.2 out of 5\n",
              "14. **Fairmont Heritage Place - Ghirardelli Square** - $969, rated 4.5 out of 5\n",
              "15. **San Francisco Marriott Marquis** - $184, rated 4.3 out of 5\n",
              "16. **San Francisco Marriott Fisherman's Wharf** - $183, rated 4.2 out of 5\n",
              "</pre>"
            ],
            "text/plain": [
              "<IPython.core.display.HTML object>"
            ]
          },
          "metadata": {},
          "output_type": "display_data"
        },
        {
          "data": {
            "text/html": [
              "<pre style='color: blue; font-weight: normal;'>==================================================</pre>"
            ],
            "text/plain": [
              "<IPython.core.display.HTML object>"
            ]
          },
          "metadata": {},
          "output_type": "display_data"
        },
        {
          "data": {
            "text/html": [
              "<pre style='color: blue; font-weight: normal;'>==================================================</pre>"
            ],
            "text/plain": [
              "<IPython.core.display.HTML object>"
            ]
          },
          "metadata": {},
          "output_type": "display_data"
        }
      ],
      "source": [
        "ai_assistant_with_memory = TravelAIAgent(use_memory=True)\n",
        "ai_assistant_without_memory = TravelAIAgent(use_memory=False)\n",
        "\n",
        "print_colored(\"Welcome to the Travel AI Assistant Comparison!\", color='blue', bold=True)\n",
        "print_colored(\"Ask your travel-related questions to compare responses with and without memory.\", color='green')\n",
        "print_colored(\"Type 'q' or 'exit' to quit.\", color='green')\n",
        "\n",
        "while True:\n",
        "    print_separator('=', color='blue')\n",
        "    question = input(\"Question: \")\n",
        "\n",
        "    if question.lower() in ['q', 'exit']:\n",
        "        break\n",
        "\n",
        "    print_separator('-', color='gray')\n",
        "    print_colored(f\"User query: {question}\", color='purple', bold=True)\n",
        "    print_separator('-', color='gray')\n",
        "\n",
        "    # Get answers from both assistants\n",
        "    answer_with_memory = ai_assistant_with_memory.ask_question(question, user_id=USER_ID)\n",
        "    answer_without_memory = ai_assistant_without_memory.ask_question(question, user_id=USER_ID)\n",
        "\n",
        "    # Display answers\n",
        "    print_colored(\"Answer (With Memory):\", color='green', bold=True)\n",
        "    print_colored(answer_with_memory, color='green')\n",
        "\n",
        "    print_separator('-', color='gray')\n",
        "\n",
        "    print_colored(\"Answer (Without Memory):\", color='red', bold=True)\n",
        "    print_colored(answer_without_memory, color='red')\n",
        "\n",
        "    print_separator('=', color='blue')"
      ]
    },
    {
      "cell_type": "code",
      "execution_count": null,
      "metadata": {},
      "outputs": [],
      "source": []
    }
  ],
  "metadata": {
    "colab": {
      "provenance": []
    },
    "kernelspec": {
      "display_name": ".venv",
      "language": "python",
      "name": "python3"
    },
    "language_info": {
      "codemirror_mode": {
        "name": "ipython",
        "version": 3
      },
      "file_extension": ".py",
      "mimetype": "text/x-python",
      "name": "python",
      "nbconvert_exporter": "python",
      "pygments_lexer": "ipython3",
      "version": "3.11.4"
    }
  },
  "nbformat": 4,
  "nbformat_minor": 0
}
