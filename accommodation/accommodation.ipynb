{
 "cells": [
  {
   "cell_type": "markdown",
   "metadata": {},
   "source": [
    "# Finding Accommodation with MultiOn\n",
    "\n",
    "In this recipe, we'll demonstrate how to scrape data from AirBnB and make a booking using MultiOn's Agent API in local mode. We'll be using `step` and `retrieve` to find accommodation for our desired location and dates."
   ]
  },
  {
   "cell_type": "markdown",
   "metadata": {},
   "source": [
    "## Step 1: Set up the environment\n",
    "\n",
    "First, let's install the required libraries and set up the MultiOn client."
   ]
  },
  {
   "cell_type": "code",
   "execution_count": null,
   "metadata": {},
   "outputs": [],
   "source": [
    "%pip install multion --upgrade"
   ]
  },
  {
   "cell_type": "code",
   "execution_count": 2,
   "metadata": {},
   "outputs": [],
   "source": [
    "from multion.client import MultiOn\n",
    "\n",
    "client = MultiOn(\n",
    "    api_key=\"YOUR_API_KEY\" # Get your API key from https://app.multion.ai/api-keys\n",
    ")"
   ]
  },
  {
   "cell_type": "markdown",
   "metadata": {},
   "source": [
    "## Step 2: Create the accommodation search agent\n",
    "\n",
    "Next, we will create an agent session with local mode enabled, which allows us to see the agent in action in our local browser with the MultiOn Chrome Extension. This agent will be responsible for searching for accommodation according to our specifications.\n",
    "\n",
    "Make sure that the MultiOn Chrome Extension is installed and enabled (for more details, see [here](https://docs.multion.ai/learn/browser-extension))."
   ]
  },
  {
   "cell_type": "code",
   "execution_count": 3,
   "metadata": {},
   "outputs": [],
   "source": [
    "create_response = client.sessions.create(\n",
    "    url=\"https://www.airbnb.com/\",\n",
    "    local=True\n",
    ")\n",
    "\n",
    "session_id = create_response.session_id"
   ]
  },
  {
   "cell_type": "markdown",
   "metadata": {},
   "source": [
    "If you aren't logged in to AirBnB, make sure you do so. Now, we can continue from the same session using the `session_id` from the response. We will search for accommodation and use `step` until we get to the results page."
   ]
  },
  {
   "cell_type": "code",
   "execution_count": null,
   "metadata": {},
   "outputs": [],
   "source": [
    "status = \"CONTINUE\"\n",
    "\n",
    "while status == \"CONTINUE\":\n",
    "    step_response = client.sessions.step(\n",
    "        session_id=session_id,\n",
    "        cmd=\"Find accommodation options in Mountain View from July 20 to 30.\"\n",
    "    )\n",
    "    status = step_response.status"
   ]
  },
  {
   "cell_type": "markdown",
   "metadata": {},
   "source": [
    "## Step 3: Scrape Listings\n",
    "\n",
    "Once we are on the results page, we can start retrieving data with `retrieve`.\n",
    "\n",
    "Since AirBnB paginates its results, we will have to navigate to the next page with `step` once we have scraped all listings on the current page. Conveniently, `retrieve` has an option to scroll down to the bottom while retrieving (`scroll_to_bottom`), which we will use to speed up the process. We can also enable `render_js` to get all image URLs.\n",
    "In the interest of brevity, we will limit the maximum pages we scrape to 5."
   ]
  },
  {
   "cell_type": "code",
   "execution_count": null,
   "metadata": {},
   "outputs": [],
   "source": [
    "scraped_listings = []\n",
    "has_more = True\n",
    "page = 1\n",
    "\n",
    "while has_more:\n",
    "    retrieve_response = client.retrieve(\n",
    "        session_id=session_id,\n",
    "        cmd=\"Get all the accommodation listings with name, rating, location, price per night, listing URL, and image URL.\",\n",
    "        fields=[\"name\", \"rating\", \"location\", \"price\", \"listing_url\", \"image_url\"],\n",
    "        scroll_to_bottom=True,\n",
    "        render_js=True\n",
    "    )\n",
    "    scraped_listings.extend(retrieve_response.data)\n",
    "    print(f\"Scraped page {page} with {len(retrieve_response.data)} listings\")\n",
    "    page += 1\n",
    "    step_response = client.sessions.step(\n",
    "        session_id=session_id,\n",
    "        cmd=\"Click the 'Next' button to go to the next page.\"\n",
    "    )\n",
    "    has_more = \"last page\" not in step_response.message\n",
    "    if page >= 5:\n",
    "        break\n",
    "\n",
    "print(f\"Scraped {len(scraped_listings)} profiles:\\n{scraped_listings}\")"
   ]
  },
  {
   "cell_type": "code",
   "execution_count": null,
   "metadata": {},
   "outputs": [],
   "source": [
    "scraped_listings"
   ]
  },
  {
   "cell_type": "markdown",
   "metadata": {},
   "source": [
    "## Step 4: Book a Room\n",
    "\n",
    "\n",
    "Now, we will `create` a new session and use `step` to book the first listing from our scraped list.\n",
    "\n",
    "⚠️ If you're logged in and have a payment method set up, this will complete the reservation (and make the payment) on AirBnB!"
   ]
  },
  {
   "cell_type": "code",
   "execution_count": null,
   "metadata": {},
   "outputs": [],
   "source": [
    "chosen_listing = scraped_listings[0]\n",
    "url = \"https://www.airbnb.com\" + chosen_listing['listing_url']\n",
    "\n",
    "create_response = client.sessions.create(\n",
    "    url=url,\n",
    "    local=True\n",
    ")\n",
    "\n",
    "session_id = create_response.session_id\n",
    "\n",
    "status = \"CONTINUE\"\n",
    "\n",
    "while status == \"CONTINUE\":\n",
    "    step_response = client.sessions.step(\n",
    "        session_id=session_id,\n",
    "        url=url,\n",
    "        cmd=\"Book this listing for July 20 to 30.\"\n",
    "    )\n",
    "    status = step_response.status"
   ]
  }
 ],
 "metadata": {
  "kernelspec": {
   "display_name": ".venv",
   "language": "python",
   "name": "python3"
  },
  "language_info": {
   "codemirror_mode": {
    "name": "ipython",
    "version": 3
   },
   "file_extension": ".py",
   "mimetype": "text/x-python",
   "name": "python",
   "nbconvert_exporter": "python",
   "pygments_lexer": "ipython3",
   "version": "3.11.9"
  }
 },
 "nbformat": 4,
 "nbformat_minor": 2
}
